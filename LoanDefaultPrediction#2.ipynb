{
  "nbformat": 4,
  "nbformat_minor": 0,
  "metadata": {
    "colab": {
      "provenance": []
    },
    "kernelspec": {
      "name": "ir",
      "display_name": "R"
    },
    "language_info": {
      "name": "R"
    },
    "accelerator": "TPU"
  },
  "cells": [
    {
      "cell_type": "markdown",
      "source": [
        "#LOAN DEFAULT PREDICTION-R PROGRAMMING\n"
      ],
      "metadata": {
        "id": "3h1YrtLDxWkb"
      }
    },
    {
      "cell_type": "markdown",
      "source": [
        "##Importing Libraries"
      ],
      "metadata": {
        "id": "fHfyW0IyxqZD"
      }
    },
    {
      "cell_type": "code",
      "source": [
        " #install.packages(\"readr\")\n",
        " #install.packages(\"caret\")\n",
        " #install.packages(\"class\")\n",
        " #install.packages(\"ROSE\")\n",
        " #install.packages(\"smotefamily\")\n",
        " #install.packages(\"pROC\")\n",
        " #install.packages(\"randomForest\")\n",
        " #install.packages(\"e1071\")\n",
        "library(e1071)\n",
        "library(pROC)\n",
        "library(readr)\n",
        "library(caret)\n",
        "library(rpart)        # For decision trees\n",
        "library(rpart.plot)\n",
        "library(class)\n",
        "library(ROSE)\n",
        "library(smotefamily)\n",
        "library(ggplot2)\n",
        "library(randomForest)"
      ],
      "metadata": {
        "id": "KTtjaC0gmd5E",
        "colab": {
          "base_uri": "https://localhost:8080/",
          "height": 140
        },
        "outputId": "7c792fce-0a7c-456e-9c79-a6e5493520c7"
      },
      "execution_count": null,
      "outputs": [
        {
          "output_type": "error",
          "ename": "ERROR",
          "evalue": "ignored",
          "traceback": [
            "Error in library(e1071): there is no package called ‘e1071’\nTraceback:\n",
            "1. library(e1071)"
          ]
        }
      ]
    },
    {
      "cell_type": "code",
      "source": [
        "install.packages(\"reshape2\")\n",
        "library(reshape2)"
      ],
      "metadata": {
        "colab": {
          "base_uri": "https://localhost:8080/"
        },
        "id": "5q3Tvg3D_5Tq",
        "outputId": "f10f06f5-fbdf-4827-b538-41cb9045c6b6"
      },
      "execution_count": null,
      "outputs": [
        {
          "output_type": "stream",
          "name": "stderr",
          "text": [
            "Installing package into ‘/usr/local/lib/R/site-library’\n",
            "(as ‘lib’ is unspecified)\n",
            "\n",
            "also installing the dependencies ‘plyr’, ‘Rcpp’\n",
            "\n",
            "\n"
          ]
        }
      ]
    },
    {
      "cell_type": "code",
      "source": [
        "install.packages(\"readr\")\n",
        "library(readr)"
      ],
      "metadata": {
        "colab": {
          "base_uri": "https://localhost:8080/"
        },
        "id": "MwtTdHNmU33Q",
        "outputId": "18b20379-89e8-456e-fd1c-d22d45306221"
      },
      "execution_count": null,
      "outputs": [
        {
          "output_type": "stream",
          "name": "stderr",
          "text": [
            "Installing package into ‘/usr/local/lib/R/site-library’\n",
            "(as ‘lib’ is unspecified)\n",
            "\n"
          ]
        }
      ]
    },
    {
      "cell_type": "markdown",
      "source": [
        "##Loading Data"
      ],
      "metadata": {
        "id": "wFovj_QOx1CR"
      }
    },
    {
      "cell_type": "code",
      "execution_count": null,
      "metadata": {
        "id": "cGba5RGi4xGn"
      },
      "outputs": [],
      "source": [
        "\n",
        "df <- read.csv(\"https://raw.githubusercontent.com/SaahilShaikh17/LoanDefaultPrediction/main/Loan_default.csv\")"
      ]
    },
    {
      "cell_type": "code",
      "source": [
        "head(df)"
      ],
      "metadata": {
        "id": "ysmVBAtWk6QP",
        "colab": {
          "base_uri": "https://localhost:8080/"
        },
        "outputId": "9c2f1097-86cb-4a9f-e753-6ec9b0b88d03"
      },
      "execution_count": null,
      "outputs": [
        {
          "output_type": "display_data",
          "data": {
            "text/html": [
              "<table class=\"dataframe\">\n",
              "<caption>A data.frame: 6 × 18</caption>\n",
              "<thead>\n",
              "\t<tr><th></th><th scope=col>LoanID</th><th scope=col>Age</th><th scope=col>Income</th><th scope=col>LoanAmount</th><th scope=col>CreditScore</th><th scope=col>MonthsEmployed</th><th scope=col>NumCreditLines</th><th scope=col>InterestRate</th><th scope=col>LoanTerm</th><th scope=col>DTIRatio</th><th scope=col>Education</th><th scope=col>EmploymentType</th><th scope=col>MaritalStatus</th><th scope=col>HasMortgage</th><th scope=col>HasDependents</th><th scope=col>LoanPurpose</th><th scope=col>HasCoSigner</th><th scope=col>Default</th></tr>\n",
              "\t<tr><th></th><th scope=col>&lt;chr&gt;</th><th scope=col>&lt;int&gt;</th><th scope=col>&lt;int&gt;</th><th scope=col>&lt;int&gt;</th><th scope=col>&lt;int&gt;</th><th scope=col>&lt;int&gt;</th><th scope=col>&lt;int&gt;</th><th scope=col>&lt;dbl&gt;</th><th scope=col>&lt;int&gt;</th><th scope=col>&lt;dbl&gt;</th><th scope=col>&lt;chr&gt;</th><th scope=col>&lt;chr&gt;</th><th scope=col>&lt;chr&gt;</th><th scope=col>&lt;chr&gt;</th><th scope=col>&lt;chr&gt;</th><th scope=col>&lt;chr&gt;</th><th scope=col>&lt;chr&gt;</th><th scope=col>&lt;int&gt;</th></tr>\n",
              "</thead>\n",
              "<tbody>\n",
              "\t<tr><th scope=row>1</th><td>I38PQUQS96</td><td>56</td><td>85994</td><td> 50587</td><td>520</td><td>80</td><td>4</td><td>15.23</td><td>36</td><td>0.44</td><td>Bachelor's </td><td>Full-time </td><td>Divorced</td><td>Yes</td><td>Yes</td><td>Other   </td><td>Yes</td><td>0</td></tr>\n",
              "\t<tr><th scope=row>2</th><td>HPSK72WA7R</td><td>69</td><td>50432</td><td>124440</td><td>458</td><td>15</td><td>1</td><td> 4.81</td><td>60</td><td>0.68</td><td>Master's   </td><td>Full-time </td><td>Married </td><td>No </td><td>No </td><td>Other   </td><td>Yes</td><td>0</td></tr>\n",
              "\t<tr><th scope=row>3</th><td>C1OZ6DPJ8Y</td><td>46</td><td>84208</td><td>129188</td><td>451</td><td>26</td><td>3</td><td>21.17</td><td>24</td><td>0.31</td><td>Master's   </td><td>Unemployed</td><td>Divorced</td><td>Yes</td><td>Yes</td><td>Auto    </td><td>No </td><td>1</td></tr>\n",
              "\t<tr><th scope=row>4</th><td>V2KKSFM3UN</td><td>32</td><td>31713</td><td> 44799</td><td>743</td><td> 0</td><td>3</td><td> 7.07</td><td>24</td><td>0.23</td><td>High School</td><td>Full-time </td><td>Married </td><td>No </td><td>No </td><td>Business</td><td>No </td><td>0</td></tr>\n",
              "\t<tr><th scope=row>5</th><td>EY08JDHTZP</td><td>60</td><td>20437</td><td>  9139</td><td>633</td><td> 8</td><td>4</td><td> 6.51</td><td>48</td><td>0.73</td><td>Bachelor's </td><td>Unemployed</td><td>Divorced</td><td>No </td><td>Yes</td><td>Auto    </td><td>No </td><td>0</td></tr>\n",
              "\t<tr><th scope=row>6</th><td>A9S62RQ7US</td><td>25</td><td>90298</td><td> 90448</td><td>720</td><td>18</td><td>2</td><td>22.72</td><td>24</td><td>0.10</td><td>High School</td><td>Unemployed</td><td>Single  </td><td>Yes</td><td>No </td><td>Business</td><td>Yes</td><td>1</td></tr>\n",
              "</tbody>\n",
              "</table>\n"
            ],
            "text/markdown": "\nA data.frame: 6 × 18\n\n| <!--/--> | LoanID &lt;chr&gt; | Age &lt;int&gt; | Income &lt;int&gt; | LoanAmount &lt;int&gt; | CreditScore &lt;int&gt; | MonthsEmployed &lt;int&gt; | NumCreditLines &lt;int&gt; | InterestRate &lt;dbl&gt; | LoanTerm &lt;int&gt; | DTIRatio &lt;dbl&gt; | Education &lt;chr&gt; | EmploymentType &lt;chr&gt; | MaritalStatus &lt;chr&gt; | HasMortgage &lt;chr&gt; | HasDependents &lt;chr&gt; | LoanPurpose &lt;chr&gt; | HasCoSigner &lt;chr&gt; | Default &lt;int&gt; |\n|---|---|---|---|---|---|---|---|---|---|---|---|---|---|---|---|---|---|---|\n| 1 | I38PQUQS96 | 56 | 85994 |  50587 | 520 | 80 | 4 | 15.23 | 36 | 0.44 | Bachelor's  | Full-time  | Divorced | Yes | Yes | Other    | Yes | 0 |\n| 2 | HPSK72WA7R | 69 | 50432 | 124440 | 458 | 15 | 1 |  4.81 | 60 | 0.68 | Master's    | Full-time  | Married  | No  | No  | Other    | Yes | 0 |\n| 3 | C1OZ6DPJ8Y | 46 | 84208 | 129188 | 451 | 26 | 3 | 21.17 | 24 | 0.31 | Master's    | Unemployed | Divorced | Yes | Yes | Auto     | No  | 1 |\n| 4 | V2KKSFM3UN | 32 | 31713 |  44799 | 743 |  0 | 3 |  7.07 | 24 | 0.23 | High School | Full-time  | Married  | No  | No  | Business | No  | 0 |\n| 5 | EY08JDHTZP | 60 | 20437 |   9139 | 633 |  8 | 4 |  6.51 | 48 | 0.73 | Bachelor's  | Unemployed | Divorced | No  | Yes | Auto     | No  | 0 |\n| 6 | A9S62RQ7US | 25 | 90298 |  90448 | 720 | 18 | 2 | 22.72 | 24 | 0.10 | High School | Unemployed | Single   | Yes | No  | Business | Yes | 1 |\n\n",
            "text/latex": "A data.frame: 6 × 18\n\\begin{tabular}{r|llllllllllllllllll}\n  & LoanID & Age & Income & LoanAmount & CreditScore & MonthsEmployed & NumCreditLines & InterestRate & LoanTerm & DTIRatio & Education & EmploymentType & MaritalStatus & HasMortgage & HasDependents & LoanPurpose & HasCoSigner & Default\\\\\n  & <chr> & <int> & <int> & <int> & <int> & <int> & <int> & <dbl> & <int> & <dbl> & <chr> & <chr> & <chr> & <chr> & <chr> & <chr> & <chr> & <int>\\\\\n\\hline\n\t1 & I38PQUQS96 & 56 & 85994 &  50587 & 520 & 80 & 4 & 15.23 & 36 & 0.44 & Bachelor's  & Full-time  & Divorced & Yes & Yes & Other    & Yes & 0\\\\\n\t2 & HPSK72WA7R & 69 & 50432 & 124440 & 458 & 15 & 1 &  4.81 & 60 & 0.68 & Master's    & Full-time  & Married  & No  & No  & Other    & Yes & 0\\\\\n\t3 & C1OZ6DPJ8Y & 46 & 84208 & 129188 & 451 & 26 & 3 & 21.17 & 24 & 0.31 & Master's    & Unemployed & Divorced & Yes & Yes & Auto     & No  & 1\\\\\n\t4 & V2KKSFM3UN & 32 & 31713 &  44799 & 743 &  0 & 3 &  7.07 & 24 & 0.23 & High School & Full-time  & Married  & No  & No  & Business & No  & 0\\\\\n\t5 & EY08JDHTZP & 60 & 20437 &   9139 & 633 &  8 & 4 &  6.51 & 48 & 0.73 & Bachelor's  & Unemployed & Divorced & No  & Yes & Auto     & No  & 0\\\\\n\t6 & A9S62RQ7US & 25 & 90298 &  90448 & 720 & 18 & 2 & 22.72 & 24 & 0.10 & High School & Unemployed & Single   & Yes & No  & Business & Yes & 1\\\\\n\\end{tabular}\n",
            "text/plain": [
              "  LoanID     Age Income LoanAmount CreditScore MonthsEmployed NumCreditLines\n",
              "1 I38PQUQS96 56  85994   50587     520         80             4             \n",
              "2 HPSK72WA7R 69  50432  124440     458         15             1             \n",
              "3 C1OZ6DPJ8Y 46  84208  129188     451         26             3             \n",
              "4 V2KKSFM3UN 32  31713   44799     743          0             3             \n",
              "5 EY08JDHTZP 60  20437    9139     633          8             4             \n",
              "6 A9S62RQ7US 25  90298   90448     720         18             2             \n",
              "  InterestRate LoanTerm DTIRatio Education   EmploymentType MaritalStatus\n",
              "1 15.23        36       0.44     Bachelor's  Full-time      Divorced     \n",
              "2  4.81        60       0.68     Master's    Full-time      Married      \n",
              "3 21.17        24       0.31     Master's    Unemployed     Divorced     \n",
              "4  7.07        24       0.23     High School Full-time      Married      \n",
              "5  6.51        48       0.73     Bachelor's  Unemployed     Divorced     \n",
              "6 22.72        24       0.10     High School Unemployed     Single       \n",
              "  HasMortgage HasDependents LoanPurpose HasCoSigner Default\n",
              "1 Yes         Yes           Other       Yes         0      \n",
              "2 No          No            Other       Yes         0      \n",
              "3 Yes         Yes           Auto        No          1      \n",
              "4 No          No            Business    No          0      \n",
              "5 No          Yes           Auto        No          0      \n",
              "6 Yes         No            Business    Yes         1      "
            ]
          },
          "metadata": {}
        }
      ]
    },
    {
      "cell_type": "markdown",
      "source": [
        "The above shows us the top 6 values of each feature in our dataframe df.further We will analyse which features are categorcal and which are numerical in nature\n"
      ],
      "metadata": {
        "id": "pNsF1KoE0oWJ"
      }
    },
    {
      "cell_type": "markdown",
      "source": [
        "## Data Exploration\n"
      ],
      "metadata": {
        "id": "kFgN2-6P2QrF"
      }
    },
    {
      "cell_type": "code",
      "source": [
        "str(df)"
      ],
      "metadata": {
        "colab": {
          "base_uri": "https://localhost:8080/"
        },
        "id": "rLY9-eP5ykI5",
        "outputId": "3af5e5d5-7fdf-4ee1-c6d4-d970754acd9d"
      },
      "execution_count": null,
      "outputs": [
        {
          "output_type": "stream",
          "name": "stdout",
          "text": [
            "'data.frame':\t255347 obs. of  18 variables:\n",
            " $ LoanID        : chr  \"I38PQUQS96\" \"HPSK72WA7R\" \"C1OZ6DPJ8Y\" \"V2KKSFM3UN\" ...\n",
            " $ Age           : int  56 69 46 32 60 25 38 56 36 40 ...\n",
            " $ Income        : int  85994 50432 84208 31713 20437 90298 111188 126802 42053 132784 ...\n",
            " $ LoanAmount    : int  50587 124440 129188 44799 9139 90448 177025 155511 92357 228510 ...\n",
            " $ CreditScore   : int  520 458 451 743 633 720 429 531 827 480 ...\n",
            " $ MonthsEmployed: int  80 15 26 0 8 18 80 67 83 114 ...\n",
            " $ NumCreditLines: int  4 1 3 3 4 2 1 4 1 4 ...\n",
            " $ InterestRate  : num  15.23 4.81 21.17 7.07 6.51 ...\n",
            " $ LoanTerm      : int  36 60 24 24 48 24 12 60 48 48 ...\n",
            " $ DTIRatio      : num  0.44 0.68 0.31 0.23 0.73 0.1 0.16 0.43 0.2 0.33 ...\n",
            " $ Education     : chr  \"Bachelor's\" \"Master's\" \"Master's\" \"High School\" ...\n",
            " $ EmploymentType: chr  \"Full-time\" \"Full-time\" \"Unemployed\" \"Full-time\" ...\n",
            " $ MaritalStatus : chr  \"Divorced\" \"Married\" \"Divorced\" \"Married\" ...\n",
            " $ HasMortgage   : chr  \"Yes\" \"No\" \"Yes\" \"No\" ...\n",
            " $ HasDependents : chr  \"Yes\" \"No\" \"Yes\" \"No\" ...\n",
            " $ LoanPurpose   : chr  \"Other\" \"Other\" \"Auto\" \"Business\" ...\n",
            " $ HasCoSigner   : chr  \"Yes\" \"Yes\" \"No\" \"No\" ...\n",
            " $ Default       : int  0 0 1 0 0 1 0 0 1 0 ...\n"
          ]
        }
      ]
    },
    {
      "cell_type": "code",
      "source": [
        "df<- subset(df, select=-LoanID)"
      ],
      "metadata": {
        "id": "8gij7kd7_53h"
      },
      "execution_count": null,
      "outputs": []
    },
    {
      "cell_type": "markdown",
      "source": [
        "As seen above it shows us which are char datatypes and which are integer datatypes. As loan_id is a non predictor feature we will be dropping that as it would not contribute to our analysis"
      ],
      "metadata": {
        "id": "elSzv5tu1L-m"
      }
    },
    {
      "cell_type": "code",
      "source": [
        "head(df)"
      ],
      "metadata": {
        "colab": {
          "base_uri": "https://localhost:8080/"
        },
        "id": "wozdMsonAFA6",
        "outputId": "595f0b1f-b13b-4c7a-855c-cfd12d64f0a7"
      },
      "execution_count": null,
      "outputs": [
        {
          "output_type": "display_data",
          "data": {
            "text/html": [
              "<table class=\"dataframe\">\n",
              "<caption>A data.frame: 6 × 17</caption>\n",
              "<thead>\n",
              "\t<tr><th></th><th scope=col>Age</th><th scope=col>Income</th><th scope=col>LoanAmount</th><th scope=col>CreditScore</th><th scope=col>MonthsEmployed</th><th scope=col>NumCreditLines</th><th scope=col>InterestRate</th><th scope=col>LoanTerm</th><th scope=col>DTIRatio</th><th scope=col>Education</th><th scope=col>EmploymentType</th><th scope=col>MaritalStatus</th><th scope=col>HasMortgage</th><th scope=col>HasDependents</th><th scope=col>LoanPurpose</th><th scope=col>HasCoSigner</th><th scope=col>Default</th></tr>\n",
              "\t<tr><th></th><th scope=col>&lt;int&gt;</th><th scope=col>&lt;int&gt;</th><th scope=col>&lt;int&gt;</th><th scope=col>&lt;int&gt;</th><th scope=col>&lt;int&gt;</th><th scope=col>&lt;int&gt;</th><th scope=col>&lt;dbl&gt;</th><th scope=col>&lt;int&gt;</th><th scope=col>&lt;dbl&gt;</th><th scope=col>&lt;chr&gt;</th><th scope=col>&lt;chr&gt;</th><th scope=col>&lt;chr&gt;</th><th scope=col>&lt;chr&gt;</th><th scope=col>&lt;chr&gt;</th><th scope=col>&lt;chr&gt;</th><th scope=col>&lt;chr&gt;</th><th scope=col>&lt;int&gt;</th></tr>\n",
              "</thead>\n",
              "<tbody>\n",
              "\t<tr><th scope=row>1</th><td>56</td><td>85994</td><td> 50587</td><td>520</td><td>80</td><td>4</td><td>15.23</td><td>36</td><td>0.44</td><td>Bachelor's </td><td>Full-time </td><td>Divorced</td><td>Yes</td><td>Yes</td><td>Other   </td><td>Yes</td><td>0</td></tr>\n",
              "\t<tr><th scope=row>2</th><td>69</td><td>50432</td><td>124440</td><td>458</td><td>15</td><td>1</td><td> 4.81</td><td>60</td><td>0.68</td><td>Master's   </td><td>Full-time </td><td>Married </td><td>No </td><td>No </td><td>Other   </td><td>Yes</td><td>0</td></tr>\n",
              "\t<tr><th scope=row>3</th><td>46</td><td>84208</td><td>129188</td><td>451</td><td>26</td><td>3</td><td>21.17</td><td>24</td><td>0.31</td><td>Master's   </td><td>Unemployed</td><td>Divorced</td><td>Yes</td><td>Yes</td><td>Auto    </td><td>No </td><td>1</td></tr>\n",
              "\t<tr><th scope=row>4</th><td>32</td><td>31713</td><td> 44799</td><td>743</td><td> 0</td><td>3</td><td> 7.07</td><td>24</td><td>0.23</td><td>High School</td><td>Full-time </td><td>Married </td><td>No </td><td>No </td><td>Business</td><td>No </td><td>0</td></tr>\n",
              "\t<tr><th scope=row>5</th><td>60</td><td>20437</td><td>  9139</td><td>633</td><td> 8</td><td>4</td><td> 6.51</td><td>48</td><td>0.73</td><td>Bachelor's </td><td>Unemployed</td><td>Divorced</td><td>No </td><td>Yes</td><td>Auto    </td><td>No </td><td>0</td></tr>\n",
              "\t<tr><th scope=row>6</th><td>25</td><td>90298</td><td> 90448</td><td>720</td><td>18</td><td>2</td><td>22.72</td><td>24</td><td>0.10</td><td>High School</td><td>Unemployed</td><td>Single  </td><td>Yes</td><td>No </td><td>Business</td><td>Yes</td><td>1</td></tr>\n",
              "</tbody>\n",
              "</table>\n"
            ],
            "text/markdown": "\nA data.frame: 6 × 17\n\n| <!--/--> | Age &lt;int&gt; | Income &lt;int&gt; | LoanAmount &lt;int&gt; | CreditScore &lt;int&gt; | MonthsEmployed &lt;int&gt; | NumCreditLines &lt;int&gt; | InterestRate &lt;dbl&gt; | LoanTerm &lt;int&gt; | DTIRatio &lt;dbl&gt; | Education &lt;chr&gt; | EmploymentType &lt;chr&gt; | MaritalStatus &lt;chr&gt; | HasMortgage &lt;chr&gt; | HasDependents &lt;chr&gt; | LoanPurpose &lt;chr&gt; | HasCoSigner &lt;chr&gt; | Default &lt;int&gt; |\n|---|---|---|---|---|---|---|---|---|---|---|---|---|---|---|---|---|---|\n| 1 | 56 | 85994 |  50587 | 520 | 80 | 4 | 15.23 | 36 | 0.44 | Bachelor's  | Full-time  | Divorced | Yes | Yes | Other    | Yes | 0 |\n| 2 | 69 | 50432 | 124440 | 458 | 15 | 1 |  4.81 | 60 | 0.68 | Master's    | Full-time  | Married  | No  | No  | Other    | Yes | 0 |\n| 3 | 46 | 84208 | 129188 | 451 | 26 | 3 | 21.17 | 24 | 0.31 | Master's    | Unemployed | Divorced | Yes | Yes | Auto     | No  | 1 |\n| 4 | 32 | 31713 |  44799 | 743 |  0 | 3 |  7.07 | 24 | 0.23 | High School | Full-time  | Married  | No  | No  | Business | No  | 0 |\n| 5 | 60 | 20437 |   9139 | 633 |  8 | 4 |  6.51 | 48 | 0.73 | Bachelor's  | Unemployed | Divorced | No  | Yes | Auto     | No  | 0 |\n| 6 | 25 | 90298 |  90448 | 720 | 18 | 2 | 22.72 | 24 | 0.10 | High School | Unemployed | Single   | Yes | No  | Business | Yes | 1 |\n\n",
            "text/latex": "A data.frame: 6 × 17\n\\begin{tabular}{r|lllllllllllllllll}\n  & Age & Income & LoanAmount & CreditScore & MonthsEmployed & NumCreditLines & InterestRate & LoanTerm & DTIRatio & Education & EmploymentType & MaritalStatus & HasMortgage & HasDependents & LoanPurpose & HasCoSigner & Default\\\\\n  & <int> & <int> & <int> & <int> & <int> & <int> & <dbl> & <int> & <dbl> & <chr> & <chr> & <chr> & <chr> & <chr> & <chr> & <chr> & <int>\\\\\n\\hline\n\t1 & 56 & 85994 &  50587 & 520 & 80 & 4 & 15.23 & 36 & 0.44 & Bachelor's  & Full-time  & Divorced & Yes & Yes & Other    & Yes & 0\\\\\n\t2 & 69 & 50432 & 124440 & 458 & 15 & 1 &  4.81 & 60 & 0.68 & Master's    & Full-time  & Married  & No  & No  & Other    & Yes & 0\\\\\n\t3 & 46 & 84208 & 129188 & 451 & 26 & 3 & 21.17 & 24 & 0.31 & Master's    & Unemployed & Divorced & Yes & Yes & Auto     & No  & 1\\\\\n\t4 & 32 & 31713 &  44799 & 743 &  0 & 3 &  7.07 & 24 & 0.23 & High School & Full-time  & Married  & No  & No  & Business & No  & 0\\\\\n\t5 & 60 & 20437 &   9139 & 633 &  8 & 4 &  6.51 & 48 & 0.73 & Bachelor's  & Unemployed & Divorced & No  & Yes & Auto     & No  & 0\\\\\n\t6 & 25 & 90298 &  90448 & 720 & 18 & 2 & 22.72 & 24 & 0.10 & High School & Unemployed & Single   & Yes & No  & Business & Yes & 1\\\\\n\\end{tabular}\n",
            "text/plain": [
              "  Age Income LoanAmount CreditScore MonthsEmployed NumCreditLines InterestRate\n",
              "1 56  85994   50587     520         80             4              15.23       \n",
              "2 69  50432  124440     458         15             1               4.81       \n",
              "3 46  84208  129188     451         26             3              21.17       \n",
              "4 32  31713   44799     743          0             3               7.07       \n",
              "5 60  20437    9139     633          8             4               6.51       \n",
              "6 25  90298   90448     720         18             2              22.72       \n",
              "  LoanTerm DTIRatio Education   EmploymentType MaritalStatus HasMortgage\n",
              "1 36       0.44     Bachelor's  Full-time      Divorced      Yes        \n",
              "2 60       0.68     Master's    Full-time      Married       No         \n",
              "3 24       0.31     Master's    Unemployed     Divorced      Yes        \n",
              "4 24       0.23     High School Full-time      Married       No         \n",
              "5 48       0.73     Bachelor's  Unemployed     Divorced      No         \n",
              "6 24       0.10     High School Unemployed     Single        Yes        \n",
              "  HasDependents LoanPurpose HasCoSigner Default\n",
              "1 Yes           Other       Yes         0      \n",
              "2 No            Other       Yes         0      \n",
              "3 Yes           Auto        No          1      \n",
              "4 No            Business    No          0      \n",
              "5 Yes           Auto        No          0      \n",
              "6 No            Business    Yes         1      "
            ]
          },
          "metadata": {}
        }
      ]
    },
    {
      "cell_type": "code",
      "source": [
        "#Shape of our dataset\n",
        "dim(df)\n"
      ],
      "metadata": {
        "colab": {
          "base_uri": "https://localhost:8080/"
        },
        "id": "SINLpe6304cK",
        "outputId": "1a3f6069-e5a9-4b87-ce40-78afa2a8830a"
      },
      "execution_count": null,
      "outputs": [
        {
          "output_type": "display_data",
          "data": {
            "text/html": [
              "<style>\n",
              ".list-inline {list-style: none; margin:0; padding: 0}\n",
              ".list-inline>li {display: inline-block}\n",
              ".list-inline>li:not(:last-child)::after {content: \"\\00b7\"; padding: 0 .5ex}\n",
              "</style>\n",
              "<ol class=list-inline><li>255347</li><li>17</li></ol>\n"
            ],
            "text/markdown": "1. 255347\n2. 17\n\n\n",
            "text/latex": "\\begin{enumerate*}\n\\item 255347\n\\item 17\n\\end{enumerate*}\n",
            "text/plain": [
              "[1] 255347     17"
            ]
          },
          "metadata": {}
        }
      ]
    },
    {
      "cell_type": "code",
      "source": [
        "#Checking for null values\n",
        "total_missing_values <- sum(is.na(df))\n",
        "cat(\"Total missing values:\", total_missing_values)"
      ],
      "metadata": {
        "id": "ypy1DEs31z-g",
        "colab": {
          "base_uri": "https://localhost:8080/"
        },
        "outputId": "e2693041-e163-4e89-e72a-5df255ec3e3b"
      },
      "execution_count": null,
      "outputs": [
        {
          "output_type": "stream",
          "name": "stdout",
          "text": [
            "Total missing values: 0"
          ]
        }
      ]
    },
    {
      "cell_type": "code",
      "source": [
        "num_duplicates<- sum(duplicated(df))\n",
        "cat(\"Number of duplicated rows: \", num_duplicates)"
      ],
      "metadata": {
        "colab": {
          "base_uri": "https://localhost:8080/"
        },
        "id": "WUmSqXCF3I8e",
        "outputId": "dbadb234-c016-4419-9c17-a69d3ae36798"
      },
      "execution_count": null,
      "outputs": [
        {
          "output_type": "stream",
          "name": "stdout",
          "text": [
            "Number of duplicated rows:  0"
          ]
        }
      ]
    },
    {
      "cell_type": "markdown",
      "source": [
        "The above inspection shows, that our data contains no null values that need to be handled. It was also observed that there exists no duplicated rows in the dataset.\n",
        "Hence, we can now further check for our categorical data for our label encoding"
      ],
      "metadata": {
        "id": "Kq7lP2OD4YwP"
      }
    },
    {
      "cell_type": "code",
      "source": [
        "install.packages(\"Hmisc\")\n",
        "library(Hmisc)\n"
      ],
      "metadata": {
        "colab": {
          "base_uri": "https://localhost:8080/"
        },
        "id": "zsEPA_e_3qj_",
        "outputId": "ef2b50b3-ce97-40c9-d430-5cb4d64db578"
      },
      "execution_count": null,
      "outputs": [
        {
          "output_type": "stream",
          "name": "stderr",
          "text": [
            "Installing package into ‘/usr/local/lib/R/site-library’\n",
            "(as ‘lib’ is unspecified)\n",
            "\n",
            "also installing the dependencies ‘checkmate’, ‘htmlwidgets’, ‘gridExtra’, ‘htmlTable’, ‘viridis’, ‘Formula’\n",
            "\n",
            "\n",
            "\n",
            "Attaching package: ‘Hmisc’\n",
            "\n",
            "\n",
            "The following objects are masked from ‘package:base’:\n",
            "\n",
            "    format.pval, units\n",
            "\n",
            "\n"
          ]
        }
      ]
    },
    {
      "cell_type": "code",
      "source": [
        "describe(df)"
      ],
      "metadata": {
        "colab": {
          "base_uri": "https://localhost:8080/",
          "height": 1000
        },
        "id": "3Bu4oKzOIk5W",
        "outputId": "0b453968-50aa-4c7d-8e70-6dac36a1fa40"
      },
      "execution_count": null,
      "outputs": [
        {
          "output_type": "display_data",
          "data": {
            "text/plain": [
              "df \n",
              "\n",
              " 17  Variables      255347  Observations\n",
              "--------------------------------------------------------------------------------\n",
              "Age \n",
              "       n  missing distinct     Info     Mean      Gmd      .05      .10 \n",
              "  255347        0       52        1     43.5    17.31       20       23 \n",
              "     .25      .50      .75      .90      .95 \n",
              "      31       43       56       64       67 \n",
              "\n",
              "lowest : 18 19 20 21 22, highest: 65 66 67 68 69\n",
              "--------------------------------------------------------------------------------\n",
              "Income \n",
              "       n  missing distinct     Info     Mean      Gmd      .05      .10 \n",
              "  255347        0   114620        1    82499    44991    21780    28457 \n",
              "     .25      .50      .75      .90      .95 \n",
              "   48826    82466   116219   136519   143206 \n",
              "\n",
              "lowest :  15000  15001  15002  15003  15004, highest: 149994 149995 149996 149997 149999\n",
              "--------------------------------------------------------------------------------\n",
              "LoanAmount \n",
              "       n  missing distinct     Info     Mean      Gmd      .05      .10 \n",
              "  255347        0   158729        1   127579    81800    17168    29362 \n",
              "     .25      .50      .75      .90      .95 \n",
              "   66156   127556   188985   225614   237815 \n",
              "\n",
              "lowest :   5000   5001   5005   5006   5009, highest: 249993 249996 249997 249998 249999\n",
              "--------------------------------------------------------------------------------\n",
              "CreditScore \n",
              "       n  missing distinct     Info     Mean      Gmd      .05      .10 \n",
              "  255347        0      550        1    574.3    183.5      327      354 \n",
              "     .25      .50      .75      .90      .95 \n",
              "     437      574      712      795      822 \n",
              "\n",
              "lowest : 300 301 302 303 304, highest: 845 846 847 848 849\n",
              "--------------------------------------------------------------------------------\n",
              "MonthsEmployed \n",
              "       n  missing distinct     Info     Mean      Gmd      .05      .10 \n",
              "  255347        0      120        1    59.54       40        5       12 \n",
              "     .25      .50      .75      .90      .95 \n",
              "      30       60       90      108      113 \n",
              "\n",
              "lowest :   0   1   2   3   4, highest: 115 116 117 118 119\n",
              "--------------------------------------------------------------------------------\n",
              "NumCreditLines \n",
              "       n  missing distinct     Info     Mean      Gmd \n",
              "  255347        0        4    0.937    2.501    1.249 \n",
              "                                  \n",
              "Value          1     2     3     4\n",
              "Frequency  63554 64130 63834 63829\n",
              "Proportion 0.249 0.251 0.250 0.250\n",
              "\n",
              "For the frequency table, variable is rounded to the nearest 0\n",
              "--------------------------------------------------------------------------------\n",
              "InterestRate \n",
              "       n  missing distinct     Info     Mean      Gmd      .05      .10 \n",
              "  255347        0     2301        1    13.49    7.663     3.15     4.31 \n",
              "     .25      .50      .75      .90      .95 \n",
              "    7.77    13.46    19.25    22.71    23.85 \n",
              "\n",
              "lowest : 2     2.01  2.02  2.03  2.04 , highest: 24.96 24.97 24.98 24.99 25   \n",
              "--------------------------------------------------------------------------------\n",
              "LoanTerm \n",
              "       n  missing distinct     Info     Mean      Gmd \n",
              "  255347        0        5     0.96    36.03     19.2 \n",
              "                                        \n",
              "Value         12    24    36    48    60\n",
              "Frequency  50957 51009 51061 51166 51154\n",
              "Proportion   0.2   0.2   0.2   0.2   0.2\n",
              "\n",
              "For the frequency table, variable is rounded to the nearest 0\n",
              "--------------------------------------------------------------------------------\n",
              "DTIRatio \n",
              "       n  missing distinct     Info     Mean      Gmd      .05      .10 \n",
              "  255347        0       81        1   0.5002   0.2666     0.14     0.18 \n",
              "     .25      .50      .75      .90      .95 \n",
              "    0.30     0.50     0.70     0.82     0.86 \n",
              "\n",
              "lowest : 0.1  0.11 0.12 0.13 0.14, highest: 0.86 0.87 0.88 0.89 0.9 \n",
              "--------------------------------------------------------------------------------\n",
              "Education \n",
              "       n  missing distinct \n",
              "  255347        0        4 \n",
              "                                                          \n",
              "Value       Bachelor's High School    Master's         PhD\n",
              "Frequency        64366       63903       63541       63537\n",
              "Proportion       0.252       0.250       0.249       0.249\n",
              "--------------------------------------------------------------------------------\n",
              "EmploymentType \n",
              "       n  missing distinct \n",
              "  255347        0        4 \n",
              "                                                                  \n",
              "Value          Full-time     Part-time Self-employed    Unemployed\n",
              "Frequency          63656         64161         63706         63824\n",
              "Proportion         0.249         0.251         0.249         0.250\n",
              "--------------------------------------------------------------------------------\n",
              "MaritalStatus \n",
              "       n  missing distinct \n",
              "  255347        0        3 \n",
              "                                     \n",
              "Value      Divorced  Married   Single\n",
              "Frequency     85033    85302    85012\n",
              "Proportion    0.333    0.334    0.333\n",
              "--------------------------------------------------------------------------------\n",
              "HasMortgage \n",
              "       n  missing distinct \n",
              "  255347        0        2 \n",
              "                        \n",
              "Value          No    Yes\n",
              "Frequency  127670 127677\n",
              "Proportion    0.5    0.5\n",
              "--------------------------------------------------------------------------------\n",
              "HasDependents \n",
              "       n  missing distinct \n",
              "  255347        0        2 \n",
              "                        \n",
              "Value          No    Yes\n",
              "Frequency  127605 127742\n",
              "Proportion    0.5    0.5\n",
              "--------------------------------------------------------------------------------\n",
              "LoanPurpose \n",
              "       n  missing distinct \n",
              "  255347        0        5 \n",
              "                                                            \n",
              "Value           Auto  Business Education      Home     Other\n",
              "Frequency      50844     51298     51005     51286     50914\n",
              "Proportion     0.199     0.201     0.200     0.201     0.199\n",
              "--------------------------------------------------------------------------------\n",
              "HasCoSigner \n",
              "       n  missing distinct \n",
              "  255347        0        2 \n",
              "                        \n",
              "Value          No    Yes\n",
              "Frequency  127646 127701\n",
              "Proportion    0.5    0.5\n",
              "--------------------------------------------------------------------------------\n",
              "Default \n",
              "       n  missing distinct     Info      Sum     Mean      Gmd \n",
              "  255347        0        2    0.308    29653   0.1161   0.2053 \n",
              "\n",
              "--------------------------------------------------------------------------------"
            ]
          },
          "metadata": {}
        }
      ]
    },
    {
      "cell_type": "code",
      "source": [
        "# categorical cols\n",
        "categorical_cols <- names(df)[sapply(df, is.character)]\n",
        "categorical_cols <- c(categorical_cols, 'LoanTerm', 'NumCreditLines')\n",
        "categorical_cols"
      ],
      "metadata": {
        "colab": {
          "base_uri": "https://localhost:8080/",
          "height": 34
        },
        "id": "56m-9qBvJAJj",
        "outputId": "cd6c8850-9829-4242-92f2-23337bf3eb8e"
      },
      "execution_count": null,
      "outputs": [
        {
          "output_type": "display_data",
          "data": {
            "text/html": [
              "<style>\n",
              ".list-inline {list-style: none; margin:0; padding: 0}\n",
              ".list-inline>li {display: inline-block}\n",
              ".list-inline>li:not(:last-child)::after {content: \"\\00b7\"; padding: 0 .5ex}\n",
              "</style>\n",
              "<ol class=list-inline><li>'Education'</li><li>'EmploymentType'</li><li>'MaritalStatus'</li><li>'HasMortgage'</li><li>'HasDependents'</li><li>'LoanPurpose'</li><li>'HasCoSigner'</li><li>'LoanTerm'</li><li>'NumCreditLines'</li></ol>\n"
            ],
            "text/markdown": "1. 'Education'\n2. 'EmploymentType'\n3. 'MaritalStatus'\n4. 'HasMortgage'\n5. 'HasDependents'\n6. 'LoanPurpose'\n7. 'HasCoSigner'\n8. 'LoanTerm'\n9. 'NumCreditLines'\n\n\n",
            "text/latex": "\\begin{enumerate*}\n\\item 'Education'\n\\item 'EmploymentType'\n\\item 'MaritalStatus'\n\\item 'HasMortgage'\n\\item 'HasDependents'\n\\item 'LoanPurpose'\n\\item 'HasCoSigner'\n\\item 'LoanTerm'\n\\item 'NumCreditLines'\n\\end{enumerate*}\n",
            "text/plain": [
              "[1] \"Education\"      \"EmploymentType\" \"MaritalStatus\"  \"HasMortgage\"   \n",
              "[5] \"HasDependents\"  \"LoanPurpose\"    \"HasCoSigner\"    \"LoanTerm\"      \n",
              "[9] \"NumCreditLines\""
            ]
          },
          "metadata": {}
        }
      ]
    },
    {
      "cell_type": "code",
      "source": [
        "# checking for unique values in categorical columns\n",
        "for (col in categorical_cols) {\n",
        "  value_counts <- table(df[[col]])\n",
        "  cat(\"\\nColumn:\", col, \"\\n\")\n",
        "  print(value_counts)\n",
        "}"
      ],
      "metadata": {
        "colab": {
          "base_uri": "https://localhost:8080/"
        },
        "id": "W9J9qbBKKAue",
        "outputId": "36f6827b-ffce-4ffb-e74f-8c3fcb1b485f"
      },
      "execution_count": null,
      "outputs": [
        {
          "output_type": "stream",
          "name": "stdout",
          "text": [
            "\n",
            "Column: Education \n",
            "\n",
            " Bachelor's High School    Master's         PhD \n",
            "      64366       63903       63541       63537 \n",
            "\n",
            "Column: EmploymentType \n",
            "\n",
            "    Full-time     Part-time Self-employed    Unemployed \n",
            "        63656         64161         63706         63824 \n",
            "\n",
            "Column: MaritalStatus \n",
            "\n",
            "Divorced  Married   Single \n",
            "   85033    85302    85012 \n",
            "\n",
            "Column: HasMortgage \n",
            "\n",
            "    No    Yes \n",
            "127670 127677 \n",
            "\n",
            "Column: HasDependents \n",
            "\n",
            "    No    Yes \n",
            "127605 127742 \n",
            "\n",
            "Column: LoanPurpose \n",
            "\n",
            "     Auto  Business Education      Home     Other \n",
            "    50844     51298     51005     51286     50914 \n",
            "\n",
            "Column: HasCoSigner \n",
            "\n",
            "    No    Yes \n",
            "127646 127701 \n",
            "\n",
            "Column: LoanTerm \n",
            "\n",
            "   12    24    36    48    60 \n",
            "50957 51009 51061 51166 51154 \n",
            "\n",
            "Column: NumCreditLines \n",
            "\n",
            "    1     2     3     4 \n",
            "63554 64130 63834 63829 \n"
          ]
        }
      ]
    },
    {
      "cell_type": "code",
      "source": [
        "summary(df)"
      ],
      "metadata": {
        "id": "ea0h02s2KDru",
        "colab": {
          "base_uri": "https://localhost:8080/",
          "height": 624
        },
        "outputId": "00541e62-ecb1-4e11-ec71-3ace4b869ed1"
      },
      "execution_count": null,
      "outputs": [
        {
          "output_type": "display_data",
          "data": {
            "text/plain": [
              "      Age           Income         LoanAmount      CreditScore   \n",
              " Min.   :18.0   Min.   : 15000   Min.   :  5000   Min.   :300.0  \n",
              " 1st Qu.:31.0   1st Qu.: 48826   1st Qu.: 66156   1st Qu.:437.0  \n",
              " Median :43.0   Median : 82466   Median :127556   Median :574.0  \n",
              " Mean   :43.5   Mean   : 82499   Mean   :127579   Mean   :574.3  \n",
              " 3rd Qu.:56.0   3rd Qu.:116219   3rd Qu.:188985   3rd Qu.:712.0  \n",
              " Max.   :69.0   Max.   :149999   Max.   :249999   Max.   :849.0  \n",
              " MonthsEmployed   NumCreditLines   InterestRate      LoanTerm    \n",
              " Min.   :  0.00   Min.   :1.000   Min.   : 2.00   Min.   :12.00  \n",
              " 1st Qu.: 30.00   1st Qu.:2.000   1st Qu.: 7.77   1st Qu.:24.00  \n",
              " Median : 60.00   Median :2.000   Median :13.46   Median :36.00  \n",
              " Mean   : 59.54   Mean   :2.501   Mean   :13.49   Mean   :36.03  \n",
              " 3rd Qu.: 90.00   3rd Qu.:3.000   3rd Qu.:19.25   3rd Qu.:48.00  \n",
              " Max.   :119.00   Max.   :4.000   Max.   :25.00   Max.   :60.00  \n",
              "    DTIRatio       Education         EmploymentType     MaritalStatus     \n",
              " Min.   :0.1000   Length:255347      Length:255347      Length:255347     \n",
              " 1st Qu.:0.3000   Class :character   Class :character   Class :character  \n",
              " Median :0.5000   Mode  :character   Mode  :character   Mode  :character  \n",
              " Mean   :0.5002                                                           \n",
              " 3rd Qu.:0.7000                                                           \n",
              " Max.   :0.9000                                                           \n",
              " HasMortgage        HasDependents      LoanPurpose        HasCoSigner       \n",
              " Length:255347      Length:255347      Length:255347      Length:255347     \n",
              " Class :character   Class :character   Class :character   Class :character  \n",
              " Mode  :character   Mode  :character   Mode  :character   Mode  :character  \n",
              "                                                                            \n",
              "                                                                            \n",
              "                                                                            \n",
              "    Default      \n",
              " Min.   :0.0000  \n",
              " 1st Qu.:0.0000  \n",
              " Median :0.0000  \n",
              " Mean   :0.1161  \n",
              " 3rd Qu.:0.0000  \n",
              " Max.   :1.0000  "
            ]
          },
          "metadata": {}
        }
      ]
    },
    {
      "cell_type": "markdown",
      "source": [
        "##EDA"
      ],
      "metadata": {
        "id": "m0u13SkDcsd1"
      }
    },
    {
      "cell_type": "code",
      "source": [
        "#Boxplots"
      ],
      "metadata": {
        "id": "v_ix03I_huhv"
      },
      "execution_count": null,
      "outputs": []
    },
    {
      "cell_type": "code",
      "source": [
        "# Identify numeric columns in the dataframe\n",
        "numeric_columns <- sapply(df, is.numeric)\n",
        "\n",
        "# Calculate the correlation matrix for numeric columns only\n",
        "correlation_matrix <- cor(df[, numeric_columns])\n",
        "\n",
        "# Print the correlation matrix\n",
        "print(correlation_matrix)\n"
      ],
      "metadata": {
        "colab": {
          "base_uri": "https://localhost:8080/"
        },
        "id": "UnEoO4Ui8CYv",
        "outputId": "4e8dda29-8a77-4b84-e68a-b8f9b4a1f92b"
      },
      "execution_count": null,
      "outputs": [
        {
          "output_type": "stream",
          "name": "stdout",
          "text": [
            "                         Age        Income    LoanAmount   CreditScore\n",
            "Age             1.0000000000 -0.0012440952 -0.0022127413 -5.481709e-04\n",
            "Income         -0.0012440952  1.0000000000 -0.0008653257 -1.430447e-03\n",
            "LoanAmount     -0.0022127413 -0.0008653257  1.0000000000  1.261270e-03\n",
            "CreditScore    -0.0005481709 -0.0014304474  0.0012612696  1.000000e+00\n",
            "MonthsEmployed -0.0003413880  0.0026748770  0.0028168363  6.128273e-04\n",
            "NumCreditLines -0.0008897680 -0.0020164097  0.0007944049  1.604201e-05\n",
            "InterestRate   -0.0011273828 -0.0023034253 -0.0022911190  4.361387e-04\n",
            "LoanTerm        0.0002633451 -0.0009981963  0.0025379660  1.130365e-03\n",
            "DTIRatio       -0.0046891917  0.0002054967  0.0011224209 -1.039252e-03\n",
            "Default        -0.1677831649 -0.0991194845  0.0866591772 -3.416649e-02\n",
            "               MonthsEmployed NumCreditLines  InterestRate      LoanTerm\n",
            "Age             -3.413880e-04  -8.897680e-04 -1.127383e-03  0.0002633451\n",
            "Income           2.674877e-03  -2.016410e-03 -2.303425e-03 -0.0009981963\n",
            "LoanAmount       2.816836e-03   7.944049e-04 -2.291119e-03  0.0025379660\n",
            "CreditScore      6.128273e-04   1.604201e-05  4.361387e-04  0.0011303655\n",
            "MonthsEmployed   1.000000e+00   1.267119e-03  9.557276e-05 -0.0011660636\n",
            "NumCreditLines   1.267119e-03   1.000000e+00 -2.966494e-04 -0.0002257909\n",
            "InterestRate     9.557276e-05  -2.966494e-04  1.000000e+00  0.0008920080\n",
            "LoanTerm        -1.166064e-03  -2.257909e-04  8.920080e-04  1.0000000000\n",
            "DTIRatio         1.764627e-03  -5.862297e-04  5.753188e-04  0.0022730945\n",
            "Default         -9.737383e-02   2.832972e-02  1.312730e-01  0.0005446977\n",
            "                    DTIRatio       Default\n",
            "Age            -0.0046891917 -0.1677831649\n",
            "Income          0.0002054967 -0.0991194845\n",
            "LoanAmount      0.0011224209  0.0866591772\n",
            "CreditScore    -0.0010392521 -0.0341664938\n",
            "MonthsEmployed  0.0017646268 -0.0973738290\n",
            "NumCreditLines -0.0005862297  0.0283297218\n",
            "InterestRate    0.0005753188  0.1312730153\n",
            "LoanTerm        0.0022730945  0.0005446977\n",
            "DTIRatio        1.0000000000  0.0192359810\n",
            "Default         0.0192359810  1.0000000000\n"
          ]
        }
      ]
    },
    {
      "cell_type": "code",
      "source": [
        "melted_cormat <- melt(correlation_matrix)\n",
        "ggplot(data = melted_cormat, aes(x = Var1, y = Var2, fill = value)) +\n",
        "  geom_tile() +\n",
        "  scale_fill_gradient2(low = \"Dark green\", high = \"Dark Blue\", midpoint = 0, limits = c(-1, 1)) +\n",
        "  theme_minimal() +\n",
        "  theme(axis.text.x = element_text(angle = 45, hjust = 1)) +\n",
        "  labs(title = \"Correlation Heatmap\", fill = \"Correlation\") +\n",
        "  theme(legend.position = \"right\")"
      ],
      "metadata": {
        "colab": {
          "base_uri": "https://localhost:8080/",
          "height": 106
        },
        "id": "BrbhWxTr9au4",
        "outputId": "7120db41-ce53-40aa-8009-4f9c9effef05"
      },
      "execution_count": null,
      "outputs": [
        {
          "output_type": "error",
          "ename": "ERROR",
          "evalue": "ignored",
          "traceback": [
            "Error in ggplot(data = melted_cormat, aes(x = Var1, y = Var2, fill = value)): could not find function \"ggplot\"\nTraceback:\n"
          ]
        }
      ]
    },
    {
      "cell_type": "markdown",
      "source": [
        "Plotting Box plots for each variable we find out that there are no outliers in our dataset which would affect our final prediction process"
      ],
      "metadata": {
        "id": "HCBzn52BvCKQ"
      }
    },
    {
      "cell_type": "markdown",
      "source": [
        "## Data Preprocessing"
      ],
      "metadata": {
        "id": "vFLoHH5uyj2F"
      }
    },
    {
      "cell_type": "code",
      "source": [
        "categorical_cols <- names(df)[sapply(df, is.character)]\n",
        "categorical_cols"
      ],
      "metadata": {
        "id": "0zfz2NKyyolK"
      },
      "execution_count": null,
      "outputs": []
    },
    {
      "cell_type": "code",
      "source": [
        "binary_cat_cols = c('HasCoSigner', 'HasDependents', 'HasMortgage')\n",
        "for (col in binary_cat_cols){\n",
        "  df[[col]] <- ifelse(df[[col]] == \"Yes\", 1, 0)\n",
        "}\n",
        "\n",
        "head(df)\n"
      ],
      "metadata": {
        "id": "PBTAwmI2yyBI"
      },
      "execution_count": null,
      "outputs": []
    },
    {
      "cell_type": "code",
      "source": [
        "# one hot encode cols havinf 4 categories:\n",
        "# dummyVars library was used\n",
        "# ONE HOT ENCODED COLS APPENDED TO THE DATASET\n",
        "one_hot_cols <- c('Education', 'EmploymentType', 'MaritalStatus','LoanPurpose')\n",
        "formula <- as.formula(paste(\"~\", paste(one_hot_cols, collapse = \" + \")))\n",
        "new_df <- dummyVars(formula, data = df)\n",
        "new_df <- data.frame(predict(new_df, newdata = df))\n",
        "str(new_df)\n",
        "new_df <- cbind(new_df, df)\n",
        "new_df <- new_df[, !(names(new_df) %in% one_hot_cols)]\n",
        "str(new_df)\n"
      ],
      "metadata": {
        "id": "TJTn86VD537i"
      },
      "execution_count": null,
      "outputs": []
    },
    {
      "cell_type": "code",
      "source": [
        "colnames(new_df)"
      ],
      "metadata": {
        "id": "0PrItn9r6dPg"
      },
      "execution_count": null,
      "outputs": []
    },
    {
      "cell_type": "code",
      "source": [
        "value_counts <- table(new_df[[\"Default\"]])\n",
        "print(value_counts)"
      ],
      "metadata": {
        "id": "w6aTX11M881b"
      },
      "execution_count": null,
      "outputs": []
    },
    {
      "cell_type": "code",
      "source": [
        "#Oversampling data using ROSE\n",
        "oversampled_df=ovun.sample(Default~.,data=new_df,method=\"over\")\n",
        "oversampled_df=oversampled_df$data\n",
        "table(oversampled_df$Default)"
      ],
      "metadata": {
        "id": "VBdfyiz4eFL5"
      },
      "execution_count": null,
      "outputs": []
    },
    {
      "cell_type": "code",
      "source": [
        "set.seed(123)  # Set a seed for reproducibility\n",
        "train_indices <- createDataPartition(oversampled_df$Default, p = 0.8, list = FALSE)\n",
        "\n",
        "train_data <- oversampled_df[train_indices,]\n",
        "test_data <- oversampled_df[-train_indices, ]\n",
        "\n",
        "test_data$Default = factor(test_data$Default,\n",
        "                           levels = c(0, 1))"
      ],
      "metadata": {
        "id": "6ZhvHk6pWgPW"
      },
      "execution_count": null,
      "outputs": []
    },
    {
      "cell_type": "code",
      "source": [
        "numerical_columns <- c('Age', 'Income', 'LoanAmount', 'CreditScore', 'MonthsEmployed', 'InterestRate', 'DTIRatio')\n",
        "\n",
        "# Feature Scaling\n",
        "train_data[numerical_columns] = scale(train_data[numerical_columns])\n",
        "test_data[numerical_columns] = scale(test_data[numerical_columns])\n"
      ],
      "metadata": {
        "id": "AxjG9Bzlc9p8"
      },
      "execution_count": null,
      "outputs": []
    },
    {
      "cell_type": "markdown",
      "source": [
        "The numerical features of our dataset were standardised in order to  allow different systems to share and efficiently use data."
      ],
      "metadata": {
        "id": "QJAayoDxuLBj"
      }
    },
    {
      "cell_type": "code",
      "source": [
        "head(train_data)\n",
        "head(test_data)"
      ],
      "metadata": {
        "id": "e8xZOydAdGlj"
      },
      "execution_count": null,
      "outputs": []
    },
    {
      "cell_type": "markdown",
      "source": [
        "## Logistic Regression"
      ],
      "metadata": {
        "id": "D5cu921_dW4h"
      }
    },
    {
      "cell_type": "code",
      "source": [
        "train_data$Default <- ifelse(train_data$Default == \"Yes\", 1, 0)\n",
        "train_data$Default <- factor(train_data$Default, levels = c(0, 1))\n",
        "print(train_data$Default)"
      ],
      "metadata": {
        "id": "jv_KqV51gTwT"
      },
      "execution_count": null,
      "outputs": []
    },
    {
      "cell_type": "code",
      "source": [
        "set.seed(123)  # Set the random seed to any integer value you prefer for reproducibility\n",
        "logitmod <- glm(Default ~ ., family = binomial, data = train_data, maxit = 1000)\n",
        "summary(logitmod)\n"
      ],
      "metadata": {
        "id": "yhIO5mVQ0tBH"
      },
      "execution_count": null,
      "outputs": []
    },
    {
      "cell_type": "code",
      "source": [
        "pred <- predict(logitmod, newdata = test_data, type = \"response\")"
      ],
      "metadata": {
        "id": "TFexooVx1Cax"
      },
      "execution_count": null,
      "outputs": []
    },
    {
      "cell_type": "code",
      "source": [
        "# Load necessary libraries\n",
        "library(pROC)\n",
        "library(caret)\n",
        "\n",
        "# Assuming you already have 'pred' as predicted probabilities and 'test_data' as the test dataset\n",
        "\n",
        "# Define the actual binary labels (0 or 1) for your test dataset as factors\n",
        "actual_labels <- as.factor(test_data$Default)\n",
        "\n",
        "# Convert predicted probabilities to a binary factor\n",
        "predicted_labels <- ifelse(pred > 0.5, 1, 0)\n",
        "predicted_labels <- as.factor(predicted_labels)\n",
        "\n",
        "# Create a confusion matrix\n",
        "confusion_matrix <- table(Actual = actual_labels, Predicted = predicted_labels)\n",
        "\n",
        "# Print the confusion matrix\n",
        "print(confusion_matrix)\n",
        "\n"
      ],
      "metadata": {
        "id": "mr6yUJnJ1ayS"
      },
      "execution_count": null,
      "outputs": []
    },
    {
      "cell_type": "code",
      "source": [
        "accuracy <- sum(diag(confusion_matrix)) / sum(confusion_matrix)\n",
        "cat(\"Accuracy:\", accuracy, \"\\n\")"
      ],
      "metadata": {
        "id": "l5SZdPnS1mWk"
      },
      "execution_count": null,
      "outputs": []
    },
    {
      "cell_type": "code",
      "source": [
        "roc_curve <- roc(response = actual_labels, predictor = pred)\n",
        "\n",
        "# Plot the ROC curve\n",
        "plot(roc_curve, print.auc = TRUE, print.auc.y = 0.3)\n",
        "\n",
        "# Add labels and a legend\n",
        "legend(\"bottomright\", legend = paste(\"AUC =\", round(auc(roc_curve), 2)), bty = \"n\")\n",
        "title(\"ROC Curve\")"
      ],
      "metadata": {
        "id": "jT3ZwKfq36aq"
      },
      "execution_count": null,
      "outputs": []
    },
    {
      "cell_type": "code",
      "source": [
        "#HyperParameter"
      ],
      "metadata": {
        "id": "3K5tsSa9-erU"
      },
      "execution_count": null,
      "outputs": []
    },
    {
      "cell_type": "code",
      "source": [
        "install.packages(\"glmnet\")"
      ],
      "metadata": {
        "id": "7N4Oulny-jmq"
      },
      "execution_count": null,
      "outputs": []
    },
    {
      "cell_type": "code",
      "source": [
        "library(glmnet)"
      ],
      "metadata": {
        "id": "3fXKjTSFEkIN"
      },
      "execution_count": null,
      "outputs": []
    },
    {
      "cell_type": "code",
      "source": [
        "set.seed(123)  # Set a random seed for reproducibility\n",
        "trainIndex <- createDataPartition(train_data$Default, p = 0.7, list = FALSE)\n",
        "train_set <- train_data[trainIndex, ]\n",
        "validation_set <- train_data[-trainIndex, ]\n"
      ],
      "metadata": {
        "id": "yyhNqBMp-m5f"
      },
      "execution_count": null,
      "outputs": []
    },
    {
      "cell_type": "code",
      "source": [
        "lambda_seq <- 10^seq(-3, 3, by = 0.1)  # Example lambda values\n"
      ],
      "metadata": {
        "id": "MSm0F7Ij_FxO"
      },
      "execution_count": null,
      "outputs": []
    },
    {
      "cell_type": "code",
      "source": [
        "cv_model <- cv.glmnet(x = as.matrix(train_set[, -1]), y = train_set$Default, alpha = 1, lambda = lambda_seq, family = \"binomial\", nfolds = 5)\n"
      ],
      "metadata": {
        "id": "z-X4Tt-9_arL"
      },
      "execution_count": null,
      "outputs": []
    },
    {
      "cell_type": "code",
      "source": [
        "best_lambda <- cv_model$lambda.min\n",
        "cat(\"Best lambda:\", best_lambda, \"\\n\")\n"
      ],
      "metadata": {
        "id": "LnftTLpB_oXE"
      },
      "execution_count": null,
      "outputs": []
    },
    {
      "cell_type": "code",
      "source": [
        "# Check and fix data types if necessary\n",
        "str(train_data)\n",
        "str(test_data)\n",
        "\n",
        "# Ensure that both train_data and test_data have the same column names and data types\n",
        "\n",
        "# Train the final logistic regression model using the best lambda on the entire training dataset\n",
        "final_model <- glmnet(x = as.matrix(train_data), y = train_data$Default, alpha = 1, lambda = best_lambda, family = \"binomial\")\n",
        "\n",
        "# Make predictions on the test dataset\n",
        "test_data_matrix <- as.matrix(test_data)\n",
        "test_predictions <- predict(final_model, s = best_lambda, newx = test_data_matrix, type = \"response\")\n",
        "\n",
        "actual_labels <- as.factor(test_data$Default)\n",
        "\n",
        "# Convert predicted probabilities to a binary factor\n",
        "predicted_labels <- ifelse(test_predictions > 0.5, 1, 0)\n",
        "predicted_labels <- as.factor(predicted_labels)\n",
        "\n",
        "# Create a confusion matrix\n",
        "confusion_matrix <- table(Actual = actual_labels, Predicted = predicted_labels)\n",
        "\n",
        "# Print the confusion matrix\n",
        "print(confusion_matrix)\n"
      ],
      "metadata": {
        "id": "FzoCKOa6AIqa"
      },
      "execution_count": null,
      "outputs": []
    },
    {
      "cell_type": "code",
      "source": [
        "# Check the first few rows of actual and predicted labels\n",
        "head(actual_labels)\n",
        "head(predicted_labels)\n"
      ],
      "metadata": {
        "id": "rt4GyzceBF9N"
      },
      "execution_count": null,
      "outputs": []
    },
    {
      "cell_type": "code",
      "source": [],
      "metadata": {
        "id": "2E964XGHF8xy"
      },
      "execution_count": null,
      "outputs": []
    }
  ]
}